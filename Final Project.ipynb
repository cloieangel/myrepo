{
 "cells": [
  {
   "cell_type": "markdown",
   "metadata": {},
   "source": [
    "## Final Project: Health by Country in Python\n",
    "### SDS 348\n",
    "### Cloie Angel Campos - ctc2453"
   ]
  },
  {
   "cell_type": "code",
   "execution_count": 8,
   "metadata": {},
   "outputs": [],
   "source": [
    "# Import packages\n",
    "import pandas as pd\n",
    "import numpy as np\n",
    "import seaborn as sns\n",
    "import matplotlib.pyplot as plt"
   ]
  },
  {
   "cell_type": "code",
   "execution_count": 4,
   "metadata": {},
   "outputs": [],
   "source": [
    "# Import dataset\n",
    "hbc = pd.read_csv(\"healthbycountry.csv\")"
   ]
  },
  {
   "cell_type": "markdown",
   "metadata": {},
   "source": [
    "**There were two data sets merged in this project, and both were taken from the website kaggle. The first data set, \"Country Statistics -UNData\", contains 70 variables falling into the four major categories of general information, economic indicators, social indicators, and environmental & infrastructure indicators. This cleaned up data set was taken from UNData website. At its original source, the data is collected from several international statistical sources such as the Statistics Division and the Population Division of the United Nations, the statistical services of the United Nations, specialized agencies, etc. For the purpose of this data analysis, only three variables will be taken: country, region, and total expenditure on health in % of GDP. The second dataset, \"country health indicators\", is a previously tidied dataset organized by country. It contains data regarding Covid-19 cases and deaths, causes of death, food sources, vaccination rates, and general information about the country. For the purpose of this experiment, the causes of death variables organized by disease will be taken from the dataset.**\n",
    "\n",
    "**The new dataset now has only 163 observations after only keeping complete cases from the 229 in \"Country Statistics -UNData\" and the 180 in \"country health indicators\".**\n",
    "\n",
    "**The percent DALY, “disability-adjusted life years” variable serves as a measure of the burden of a disease in terms of how many years were spent living with the disease and the years lost due to premature death. The percent dictates the length of \"healthy\" life lost in comparison to what would be expected if the person did not have that disease, averaged for each country.** \n",
    "\n",
    "**As a biology major with interest in becoming a doctor, I'm interested in seeing the distribution of disease across the world and how this may be influenced by region and expenditure on health.**"
   ]
  },
  {
   "cell_type": "code",
   "execution_count": 19,
   "metadata": {},
   "outputs": [
    {
     "data": {
      "text/html": [
       "<div>\n",
       "<style scoped>\n",
       "    .dataframe tbody tr th:only-of-type {\n",
       "        vertical-align: middle;\n",
       "    }\n",
       "\n",
       "    .dataframe tbody tr th {\n",
       "        vertical-align: top;\n",
       "    }\n",
       "\n",
       "    .dataframe thead th {\n",
       "        text-align: right;\n",
       "    }\n",
       "</style>\n",
       "<table border=\"1\" class=\"dataframe\">\n",
       "  <thead>\n",
       "    <tr style=\"text-align: right;\">\n",
       "      <th></th>\n",
       "      <th>health_expenditure</th>\n",
       "    </tr>\n",
       "  </thead>\n",
       "  <tbody>\n",
       "    <tr>\n",
       "      <th>mean</th>\n",
       "      <td>6.738509</td>\n",
       "    </tr>\n",
       "  </tbody>\n",
       "</table>\n",
       "</div>"
      ],
      "text/plain": [
       "      health_expenditure\n",
       "mean            6.738509"
      ]
     },
     "execution_count": 19,
     "metadata": {},
     "output_type": "execute_result"
    }
   ],
   "source": [
    "# mean \n",
    "(hbc.query('health_expenditure > 0') \\\n",
    " .filter(['health_expenditure']) \\\n",
    " .agg(['mean']))"
   ]
  },
  {
   "cell_type": "markdown",
   "metadata": {},
   "source": [
    "*Each country spends an average of 6.74% of their GDP on health. The data had to be filtered to only include health expenditures greater than 0% because some countries contain values of \"-99%\", which indicates that there is no data on health expenditure % for that country.*"
   ]
  },
  {
   "cell_type": "code",
   "execution_count": 27,
   "metadata": {
    "scrolled": true
   },
   "outputs": [
    {
     "data": {
      "text/plain": [
       "Text(0.5,1,'Health Expenditure')"
      ]
     },
     "execution_count": 27,
     "metadata": {},
     "output_type": "execute_result"
    },
    {
     "data": {
      "image/png": "[encoded data removed]",
      "text/plain": [
       "<Figure size 432x288 with 1 Axes>"
      ]
     },
     "metadata": {
      "needs_background": "light"
     },
     "output_type": "display_data"
    }
   ],
   "source": [
    "# Create a histogram of health expenditure\n",
    "health_exp_fixed = hbc.query('health_expenditure > 0') \\\n",
    " .filter(['health_expenditure'])\n",
    "health_exp_fixed\n",
    "# Create a histogram\n",
    "health_exp_fixed['health_expenditure'].plot(kind = \"hist\")\n",
    "plt.xlabel('% of GDP') # add a label\n",
    "plt.title('Health Expenditure') # add title"
   ]
  },
  {
   "cell_type": "markdown",
   "metadata": {},
   "source": [
    "*The mean amount of health expenditure, 6.74%, is slightly higher than what appears to be the median, which is at about 6%. This is likely due to the data being right skewed, especially by the country spending about 16% of their GDP on health. The data is unimodal.*"
   ]
  },
  {
   "cell_type": "code",
   "execution_count": 28,
   "metadata": {},
   "outputs": [
    {
     "data": {
      "text/plain": [
       "WesternAsia          16\n",
       "EasternAfrica        15\n",
       "WesternAfrica        14\n",
       "SouthernEurope       13\n",
       "Caribbean            12\n",
       "SouthAmerica         12\n",
       "EasternEurope        10\n",
       "NorthernEurope       10\n",
       "South-easternAsia     9\n",
       "SouthernAsia          9\n",
       "CentralAmerica        8\n",
       "WesternEurope         7\n",
       "MiddleAfrica          6\n",
       "NorthernAfrica        6\n",
       "EasternAsia           4\n",
       "SouthernAfrica        3\n",
       "CentralAsia           3\n",
       "Melanesia             2\n",
       "Oceania               2\n",
       "NorthernAmerica       2\n",
       "Name: Region, dtype: int64"
      ]
     },
     "execution_count": 28,
     "metadata": {},
     "output_type": "execute_result"
    }
   ],
   "source": [
    "# counts for region\n",
    "hbc['Region'].value_counts()"
   ]
  },
  {
   "cell_type": "markdown",
   "metadata": {},
   "source": [
    "From the counts, Western Asia has the highest number of complete cases on health expenditure and top causes of death by disease. Regions like Melanesia, Oceania, and North America contain as little as only 2 complete cases."
   ]
  },
  {
   "cell_type": "code",
   "execution_count": 31,
   "metadata": {},
   "outputs": [
    {
     "data": {
      "text/plain": [
       "Text(0.5,1,'Complete Cases by Region of the World')"
      ]
     },
     "execution_count": 31,
     "metadata": {},
     "output_type": "execute_result"
    },
    {
     "data": {
      "image/png": "[encoded data removed]",
      "text/plain": [
       "<Figure size 432x288 with 1 Axes>"
      ]
     },
     "metadata": {
      "needs_background": "light"
     },
     "output_type": "display_data"
    }
   ],
   "source": [
    "# create a barplot by displaying counts\n",
    "hbc['Region'].value_counts().plot(kind = \"bar\")\n",
    "plt.xlabel('Region') # add x label\n",
    "plt.ylabel('Number of Complete Cases') # add y label\n",
    "plt.title('Complete Cases by Region of the World') # add title"
   ]
  },
  {
   "cell_type": "markdown",
   "metadata": {},
   "source": [
    "*As there was a very wide variety of complete cases by region, data analysis based on this categorical variable would be difficult as it is unlikely there is equal variance across region. Thus, it may be better to analyze the data based on a different grouping, such as continent, Northern/Southern Hemisphere, or Eastern/Western Hemisphere.*"
   ]
  },
  {
   "cell_type": "markdown",
   "metadata": {},
   "source": [
    "References:\n",
    "\"Country Statistics - UNData\" source: https://www.kaggle.com/sudalairajkumar/undata-country-profiles\n",
    "\n",
    "\"country health indicators\" source: https://www.kaggle.com/nxpnsv/country-health-indicators"
   ]
  }
 ],
 "metadata": {
  "kernelspec": {
   "display_name": "Python 3",
   "language": "python",
   "name": "python3"
  },
  "language_info": {
   "codemirror_mode": {
    "name": "ipython",
    "version": 3
   },
   "file_extension": ".py",
   "mimetype": "text/x-python",
   "name": "python",
   "nbconvert_exporter": "python",
   "pygments_lexer": "ipython3",
   "version": "3.6.9"
  }
 },
 "nbformat": 4,
 "nbformat_minor": 4
}
